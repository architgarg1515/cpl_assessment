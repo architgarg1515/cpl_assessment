{
 "cells": [
  {
   "cell_type": "markdown",
   "metadata": {},
   "source": [
    "# California Policy Lab Data Assessment\n",
    "\n",
    "> \"Background:\n",
    "\n",
    "> In January 2012, the LA County Sheriff’s Department began efforts to divert people with substance abuse or mental health issues from the criminal justice system by allowing individuals arrested for misdemeanor offenses during a substance abuse or mental health crisis to be released on bail rather than held in jail pre-trial. In addition, they also started a pilot program than ran through October 2013 to provide caseworkers and treatment to some of these individuals. The Sheriff has asked you to evaluate the effectiveness of the pilot program, and provided the data described below. The program’s manager has left the Department, so we know little about how people were assigned to it, but we do know assignment was done independently when an individual was arrested. This means that it’s possible that someone with multiple arrests could have been referred to the program on some occasions but not on others. No information is provided on take-up of services.\""
   ]
  },
  {
   "cell_type": "code",
   "execution_count": 17,
   "metadata": {
    "collapsed": false
   },
   "outputs": [],
   "source": [
    "# Import our libraries.\n",
    "from __future__ import division\n",
    "\n",
    "import os\n",
    "import pandas as pd\n",
    "import numpy as np\n",
    "import matplotlib.pyplot as plt\n",
    "import statsmodels.api as sm\n",
    "\n",
    "from sklearn.tree import DecisionTreeClassifier\n",
    "from statsmodels.stats.proportion import proportions_ztest\n",
    "from statsmodels.stats.proportion import proportions_chisquare\n",
    "from sklearn.model_selection import cross_val_score\n",
    "from scipy.stats import ttest_ind"
   ]
  },
  {
   "cell_type": "code",
   "execution_count": 2,
   "metadata": {
    "collapsed": true
   },
   "outputs": [],
   "source": [
    "# Read in CSVs to Pandas DataFrames.\n",
    "cases = pd.read_csv('case.csv')\n",
    "demo = pd.read_csv('demo.csv')\n",
    "prior_arrests = pd.read_csv('prior_arrests.csv')"
   ]
  },
  {
   "cell_type": "markdown",
   "metadata": {},
   "source": [
    "## Part 1: Data Management"
   ]
  },
  {
   "cell_type": "markdown",
   "metadata": {},
   "source": [
    "### A. Re-arrests Variable\n",
    "\n",
    "> \"The main outcome of interest is whether the defendant was arrested again prior to his/her disposition (trial or court appearance) date. Create a variable called ‘re_arrest’ that equals one if the defendant was arrested prior to trial and zero otherwise. E.g., imagine person 1 was arrested three times.\""
   ]
  },
  {
   "cell_type": "code",
   "execution_count": 3,
   "metadata": {
    "collapsed": false
   },
   "outputs": [
    {
     "name": "stdout",
     "output_type": "stream",
     "text": [
      "count    25000.00000\n",
      "mean         0.21092\n",
      "std          0.40797\n",
      "min          0.00000\n",
      "25%          0.00000\n",
      "50%          0.00000\n",
      "75%          0.00000\n",
      "max          1.00000\n",
      "Name: re_arrest, dtype: float64\n"
     ]
    }
   ],
   "source": [
    "# Convert dates to datetime format.\n",
    "cases.arrest_date = pd.to_datetime(cases.arrest_date, format=\"%Y-%m-%d\")\n",
    "cases.dispos_date = pd.to_datetime(cases.dispos_date, format=\"%Y-%m-%d\")\n",
    "\n",
    "# Add default re-arrests variable and set to 0.\n",
    "cases['re_arrest'] = 0\n",
    "\n",
    "# Get unique persons in cases.\n",
    "persons = cases.person_id.unique()\n",
    "\n",
    "# Loop through all persons.\n",
    "for person in persons:\n",
    "    \n",
    "    # Get all cases belonging to a person.\n",
    "    person_cases = cases[cases.person_id == person]\n",
    "    num_person_cases = len(person_cases)\n",
    "    \n",
    "    # If only one record, re_arrest is 0.\n",
    "    if num_person_cases == 1:\n",
    "        continue\n",
    "    \n",
    "    # Otherwise, we need to check if future arrest falls inside \n",
    "    # current case's disposition window.\n",
    "    else:\n",
    "        \n",
    "        # Sort the person's cases by arrest date ascending.\n",
    "        person_cases = person_cases.sort_values(by='arrest_date')\n",
    "    \n",
    "        # Check only cases that have arrests in the future.\n",
    "        for i in range(num_person_cases-1):\n",
    "            arrest_date = person_cases.iloc[i].arrest_date\n",
    "            dispos_date = person_cases.iloc[i].dispos_date\n",
    "            \n",
    "            # Look at all future cases for a re-arrest.\n",
    "            for j in range(i+1, num_person_cases):\n",
    "                \n",
    "                # If future arrest falls inside current dispos window...\n",
    "                if person_cases.iloc[j].arrest_date >= arrest_date and \\\n",
    "                   person_cases.iloc[j].arrest_date <= dispos_date:\n",
    "                        \n",
    "                        # Re_arrest is true!\n",
    "                        cases.loc[person_cases.iloc[i].name, 're_arrest'] = 1\n",
    "\n",
    "# Print out results.\n",
    "print cases.re_arrest.describe()"
   ]
  },
  {
   "cell_type": "markdown",
   "metadata": {},
   "source": [
    "### B. Prior Arrests Variable\n",
    "\n",
    "> \"Create a variable called prior_arrests that equals the number of arrests prior to the current arrest. Assume that all of the individual’s arrests prior to the study period are contained in prior.csv. For example, if person z has five arrests in prior.csv and two in case.csv, her first arrest in case.csv should have prior_arrests = 5 and the second should have prior_arrests = 6. If someone is not included in prior_arrests.csv, assume they had zero arrests at the start of the study period.\""
   ]
  },
  {
   "cell_type": "code",
   "execution_count": 4,
   "metadata": {
    "collapsed": false
   },
   "outputs": [
    {
     "name": "stdout",
     "output_type": "stream",
     "text": [
      "count    25000.000000\n",
      "mean         3.798480\n",
      "std          2.138311\n",
      "min          0.000000\n",
      "25%          2.000000\n",
      "50%          4.000000\n",
      "75%          5.000000\n",
      "max         16.000000\n",
      "Name: prior_arrests, dtype: float64\n"
     ]
    }
   ],
   "source": [
    "# Add default re-arrests variable and set to 0.\n",
    "cases['prior_arrests'] = 0\n",
    "\n",
    "# Get sorted unique persons ids from cases.\n",
    "persons = sorted(cases.person_id.unique())\n",
    "\n",
    "# Count rows, group by person_id for number of past arrests\n",
    "# to get number of prior arrests per person.\n",
    "prior_arrests_counts = prior_arrests.groupby('person_id').size()\n",
    "\n",
    "# Loop through all persons in cases.\n",
    "for person in persons:\n",
    "    \n",
    "    # Get all cases belonging to a person from cases.\n",
    "    person_cases = cases[cases.person_id == person]\n",
    "    num_person_cases = len(person_cases)\n",
    "    \n",
    "    # Get number of prior arrests from prior_arrests.\n",
    "    if person in prior_arrests_counts.index:\n",
    "        prior_arrests_count = prior_arrests_counts[person]\n",
    "    else:\n",
    "        prior_arrests_count = 0\n",
    "    \n",
    "    # Sort cases by arrest date ascending.\n",
    "    person_cases = person_cases.sort_values(by='arrest_date')\n",
    "    \n",
    "    # Add prior arrests to the cases records.\n",
    "    for i in range(num_person_cases):\n",
    "        \n",
    "        # Set prior_arrests.\n",
    "        cases.loc[person_cases.iloc[i].name, 'prior_arrests'] = prior_arrests_count\n",
    "        \n",
    "        # Increment arrest count.\n",
    "        prior_arrests_count += 1\n",
    "\n",
    "# Print out results.\n",
    "print cases.prior_arrests.describe()"
   ]
  },
  {
   "cell_type": "markdown",
   "metadata": {},
   "source": [
    "### C. Age Variable\n",
    "\n",
    "> \"Create an ‘age’ variable that equals the defendant’s age at the time of each arrest.\""
   ]
  },
  {
   "cell_type": "code",
   "execution_count": 5,
   "metadata": {
    "collapsed": false
   },
   "outputs": [
    {
     "name": "stdout",
     "output_type": "stream",
     "text": [
      "count    25000.000000\n",
      "mean        29.822240\n",
      "std          7.799782\n",
      "min          9.000000\n",
      "25%         24.000000\n",
      "50%         29.000000\n",
      "75%         35.000000\n",
      "max         70.000000\n",
      "Name: age, dtype: float64\n"
     ]
    }
   ],
   "source": [
    "# Convert bdate to datetime.\n",
    "demo.bdate = pd.to_datetime(demo.bdate, format=\"%Y-%m-%d\")\n",
    "\n",
    "# Merge cases data with demo data on person_id.\n",
    "cases = pd.merge(cases, demo, how=\"inner\", left_on=\"person_id\", right_on=\"person_id\")\n",
    "\n",
    "# Calculate age at time of arrest and round to nearest int.\n",
    "cases['age'] = (cases.arrest_date - cases.bdate).astype('<m8[Y]')\n",
    "\n",
    "# Print out results.\n",
    "print cases.age.describe()"
   ]
  },
  {
   "cell_type": "code",
   "execution_count": 18,
   "metadata": {
    "collapsed": false
   },
   "outputs": [],
   "source": [
    "# Write out dataframe.\n",
    "cases[['caseid', 'person_id', 'arrest_date', 'dispos_date',\n",
    "       'treat', 're_arrest', 'prior_arrests', 'age']].to_csv(\"final_data.csv\")"
   ]
  },
  {
   "cell_type": "markdown",
   "metadata": {},
   "source": [
    "## Part 2: Statistical Analysis\n",
    "\n",
    "> \"Help determine whether the program should be continued/expanded by estimating its effect on re- arrests prior to disposition. Using whatever methods you feel will best answer the question, prepare a short memo (no more than two pages) with your recommendation, and your justification for it.\""
   ]
  },
  {
   "cell_type": "markdown",
   "metadata": {},
   "source": [
    "We should start our statistical analysis by seeing if there is a discernible effect of treatment at a global level.  For our analysis to be robust, we would have to assume that the designation of a treatment group was made at random- sampling must have been no more complicated than in the flipping of a coin or rolling of a dice.  If we wanted to be absolutely sure about this, we could run a statistical test to check for this condition by examing the covariance of demographics with treatment designation, as well as to make sure that the treatment designation method did not change over time, which we could do by making sure that there is no time lag that has correlation with treatment designation.  We might also want to run a Chi-square test for independence to make sure that demographics and recidivism did not factor into treatment designation.\n",
    "\n",
    "Assuming treatment designation was indeed made at random over the course of the study, we would probably first want to see if the overall proportion of cases in which a person was re-arrested prior to disposition and was receiving treatment differs significantly from the overall proportion of cases in which a person was re-arrested prior to disposition and was NOT receiving treatment.  As we want to perform analysis from our data here (\"a sample\") to see if we can generalize results to the future or other localities (\"a population\"), we will move forward with a statistical inference framework.\n",
    "\n",
    "Given the number of samples we have (> 20,000), we would want to use a two-sided z-test for the difference in the realizations of binomially-distributed outcomes. This will allow us to make inference on the null hypothesis that the treatment has no affect on the differences."
   ]
  },
  {
   "cell_type": "code",
   "execution_count": 7,
   "metadata": {
    "collapsed": false
   },
   "outputs": [
    {
     "name": "stdout",
     "output_type": "stream",
     "text": [
      "Two-sided statistic for diff. in proportions is:  3.186\n",
      "P-value for obtaining these results under null hypothesis is:  0.001\n"
     ]
    }
   ],
   "source": [
    "# Array of counts:\n",
    "successes = np.array([sum(cases[cases.treat == 1].re_arrest),\n",
    "                   sum(cases[cases.treat == 0].re_arrest)])\n",
    "\n",
    "# Array of total observations.\n",
    "observations = np.array([len(cases[cases.treat == 1]),\n",
    "                         len(cases[cases.treat == 0])])\n",
    "\n",
    "# Obtain test statistic and p-value.\n",
    "statistic, p_value = proportions_ztest(successes, observations)\n",
    "\n",
    "# Print results.\n",
    "print \"Two-sided statistic for diff. in proportions is: \", '{0:0.3f}'.format(statistic)\n",
    "print \"P-value for obtaining these results under null hypothesis is: \", '{0:0.3f}'.format(p_value)"
   ]
  },
  {
   "cell_type": "markdown",
   "metadata": {},
   "source": [
    "The result of this test suggests very strongly that the assumption of the null hypothesis can be rejected at the alpha = 0.01 level of significance, and that the difference in proportions is non-zero.  However, looking closely at this result, we see that the proportion of re-arrests is actually lower (~20.2%) for cases without treatment than those with treatment (~21.8%), which is counterintuitive to the experiment hypothesis that treatment should lower re-arrests.  This is a perplexing outcome and one that we would want to dissect, which we will do by breaking down experimental outcomes by subsets of demographics, recidivism rates, and age."
   ]
  },
  {
   "cell_type": "markdown",
   "metadata": {},
   "source": [
    "### Data Exploration\n",
    "\n",
    "While we would want to explore treatment effects against all of our features, we will limit our exploration to just prior arrests for now, which we do by breaking down proportions of treatment designations by the number of prior arrests."
   ]
  },
  {
   "cell_type": "code",
   "execution_count": 8,
   "metadata": {
    "collapsed": false
   },
   "outputs": [],
   "source": [
    "# Prior Arrests Breakdown\n",
    "X = sorted(cases.prior_arrests.unique())[:10]\n",
    "num_treated = []\n",
    "num_untreated = []\n",
    "y_treated = []\n",
    "y_untreated = []\n",
    "\n",
    "for num_prior_arrests in X:\n",
    "\n",
    "    if num_prior_arrests == 9:\n",
    "        treated_perc = len(cases[(cases.treat == 1) &\n",
    "                                 (cases.prior_arrests >= num_prior_arrests) & \n",
    "                                 (cases.re_arrest == 1)]) / \\\n",
    "                       len(cases[(cases.treat == 1) & \n",
    "                                 (cases.prior_arrests >= num_prior_arrests)])\n",
    "\n",
    "        untreated_perc = len(cases[(cases.treat == 0) & \n",
    "                                   (cases.prior_arrests >= num_prior_arrests) & \n",
    "                                   (cases.re_arrest == 1)]) / \\\n",
    "                         len(cases[(cases.treat == 0) & \n",
    "                                   (cases.prior_arrests >= num_prior_arrests)])\n",
    "        \n",
    "        num_treated.append(len(cases[(cases.treat == 1) & (cases.prior_arrests >= num_prior_arrests)]))\n",
    "        num_untreated.append(len(cases[(cases.treat == 0) & (cases.prior_arrests >= num_prior_arrests)]))\n",
    "\n",
    "    else:\n",
    "        treated_perc = len(cases[(cases.treat == 1) &\n",
    "                                 (cases.prior_arrests == num_prior_arrests) & \n",
    "                                 (cases.re_arrest == 1)]) / \\\n",
    "                       len(cases[(cases.treat == 1) & \n",
    "                                 (cases.prior_arrests == num_prior_arrests)])\n",
    "\n",
    "        untreated_perc = len(cases[(cases.treat == 0) & \n",
    "                                   (cases.prior_arrests == num_prior_arrests) & \n",
    "                                   (cases.re_arrest == 1)]) / \\\n",
    "                         len(cases[(cases.treat == 0) & \n",
    "                                   (cases.prior_arrests == num_prior_arrests)])\n",
    "        num_treated.append(len(cases[(cases.treat == 1) & (cases.prior_arrests == num_prior_arrests)]))\n",
    "        num_untreated.append(len(cases[(cases.treat == 0) & (cases.prior_arrests == num_prior_arrests)]))\n",
    "\n",
    "    y_treated.append(treated_perc)\n",
    "    y_untreated.append(untreated_perc)"
   ]
  },
  {
   "cell_type": "code",
   "execution_count": 9,
   "metadata": {
    "collapsed": false
   },
   "outputs": [
    {
     "data": {
      "image/png": "[encoded data removed]",
      "text/plain": [
       "<matplotlib.figure.Figure at 0x106689f50>"
      ]
     },
     "metadata": {},
     "output_type": "display_data"
    }
   ],
   "source": [
    "# Plot re_arrest rates for treated and untreated cases \n",
    "# against number of prior arrests.\n",
    "plt.plot(X, y_treated)\n",
    "plt.plot(X, y_untreated)\n",
    "\n",
    "plt.legend(['treated re-arrest rate', 'untreated re-arrest rate'],\n",
    "           loc='upper left')\n",
    "plt.show()"
   ]
  },
  {
   "cell_type": "markdown",
   "metadata": {},
   "source": [
    "This exercise shows us that the intended effects of treatment are present and consistent when broken down by prior arrests numbers.  This suggests that our trial was not random and we explore this by plotting the number of treated versus untreated cases against the number of prior arrests below."
   ]
  },
  {
   "cell_type": "code",
   "execution_count": 10,
   "metadata": {
    "collapsed": false
   },
   "outputs": [
    {
     "data": {
      "image/png": "[encoded data removed]",
      "text/plain": [
       "<matplotlib.figure.Figure at 0x109a5e550>"
      ]
     },
     "metadata": {},
     "output_type": "display_data"
    }
   ],
   "source": [
    "# Plot data.\n",
    "n_groups = 10\n",
    "\n",
    "# Create a plot.\n",
    "fig, ax = plt.subplots()\n",
    "index = np.arange(n_groups)\n",
    "bar_width = 0.35\n",
    "opacity = 0.8\n",
    " \n",
    "rects1 = plt.bar(index, num_treated, bar_width,\n",
    "                 alpha=opacity,\n",
    "                 color='g',\n",
    "                 label='treated')\n",
    " \n",
    "rects2 = plt.bar(index + bar_width, num_untreated, bar_width,\n",
    "                 alpha=opacity,\n",
    "                 color='r',\n",
    "                 label='untreated')\n",
    " \n",
    "plt.xlabel('prior arrests')\n",
    "plt.ylabel('number of people')\n",
    "plt.title('application of treatment by prior arrest')\n",
    "plt.xticks(index + bar_width, range(10))\n",
    "plt.legend()\n",
    " \n",
    "plt.tight_layout()\n",
    "plt.show()"
   ]
  },
  {
   "cell_type": "markdown",
   "metadata": {},
   "source": [
    "We can clearly see from this chart that cases containing persons with high numbers of prior arrests are oversampled in positive treatment designation.  For sake of completeness, we will run a simple Chi-square test of independent proportions.  Our null in this case is that the treatment designation proportaion is independent of prior arrests and therefore should be equal across the range of prior arrests, as we would expect in a truly random trial."
   ]
  },
  {
   "cell_type": "code",
   "execution_count": 11,
   "metadata": {
    "collapsed": false
   },
   "outputs": [
    {
     "name": "stdout",
     "output_type": "stream",
     "text": [
      "Chi-square statistic for diff. in proportions is:  2089.818\n",
      "P-value for obtaining these results under null hypothesis is:  0.000\n"
     ]
    }
   ],
   "source": [
    "# Array of counts.\n",
    "successes = num_treated\n",
    "\n",
    "# Array of total observations.\n",
    "observations = [sum(x) for x in zip(num_treated, num_untreated)]\n",
    "\n",
    "# Obtain test statistic and p-value.\n",
    "statistic, p_value, _ = proportions_chisquare(successes, observations)\n",
    "\n",
    "# Print results.\n",
    "print \"Chi-square statistic for diff. in proportions is: \", '{0:0.3f}'.format(statistic)\n",
    "print \"P-value for obtaining these results under null hypothesis is: \", '{0:0.3f}'.format(p_value)"
   ]
  },
  {
   "cell_type": "markdown",
   "metadata": {},
   "source": [
    "As expected, the test statistic confirms that we cannot accept the actual treatment designation outcomes as pure chance- it is quite clear that there is embedded selection bias in the trial towards persons with higher numbers of prior arrests.  This selection bias is a confounding variable in our global analysis that might lead our research team to draw incorrect conclusions as in the intro to this analysis.  In the future, we might want to perform this same breakdown of re-arrest rates for demographics as well."
   ]
  },
  {
   "cell_type": "markdown",
   "metadata": {},
   "source": [
    "## Regression Analysis\n",
    "\n",
    "To account for sampling bias, we need to explicity control for these factors in an analysis, which we do with an ordinary least squares regression model below.  We control for both demographics and prior arrests by casting categorical variables to bernoulli variables where appropriate, and dropping the constant term to escape the resulting multicollinearity from this approach."
   ]
  },
  {
   "cell_type": "code",
   "execution_count": 12,
   "metadata": {
    "collapsed": false
   },
   "outputs": [
    {
     "data": {
      "text/html": [
       "<table class=\"simpletable\">\n",
       "<caption>OLS Regression Results</caption>\n",
       "<tr>\n",
       "  <th>Dep. Variable:</th>        <td>re_arrest</td>    <th>  R-squared:         </th> <td>   0.019</td> \n",
       "</tr>\n",
       "<tr>\n",
       "  <th>Model:</th>                   <td>OLS</td>       <th>  Adj. R-squared:    </th> <td>   0.019</td> \n",
       "</tr>\n",
       "<tr>\n",
       "  <th>Method:</th>             <td>Least Squares</td>  <th>  F-statistic:       </th> <td>   69.20</td> \n",
       "</tr>\n",
       "<tr>\n",
       "  <th>Date:</th>             <td>Tue, 20 Mar 2018</td> <th>  Prob (F-statistic):</th> <td>1.72e-99</td> \n",
       "</tr>\n",
       "<tr>\n",
       "  <th>Time:</th>                 <td>09:24:45</td>     <th>  Log-Likelihood:    </th> <td> -12819.</td> \n",
       "</tr>\n",
       "<tr>\n",
       "  <th>No. Observations:</th>      <td> 25000</td>      <th>  AIC:               </th> <td>2.565e+04</td>\n",
       "</tr>\n",
       "<tr>\n",
       "  <th>Df Residuals:</th>          <td> 24992</td>      <th>  BIC:               </th> <td>2.572e+04</td>\n",
       "</tr>\n",
       "<tr>\n",
       "  <th>Df Model:</th>              <td>     7</td>      <th>                     </th>     <td> </td>    \n",
       "</tr>\n",
       "<tr>\n",
       "  <th>Covariance Type:</th>      <td>nonrobust</td>    <th>                     </th>     <td> </td>    \n",
       "</tr>\n",
       "</table>\n",
       "<table class=\"simpletable\">\n",
       "<tr>\n",
       "        <td></td>           <th>coef</th>     <th>std err</th>      <th>t</th>      <th>P>|t|</th>  <th>[0.025</th>    <th>0.975]</th>  \n",
       "</tr>\n",
       "<tr>\n",
       "  <th>ASIAN</th>         <td>    0.0111</td> <td>    0.010</td> <td>    1.081</td> <td> 0.279</td> <td>   -0.009</td> <td>    0.031</td>\n",
       "</tr>\n",
       "<tr>\n",
       "  <th>BLACK</th>         <td>    0.0179</td> <td>    0.005</td> <td>    3.531</td> <td> 0.000</td> <td>    0.008</td> <td>    0.028</td>\n",
       "</tr>\n",
       "<tr>\n",
       "  <th>HISPANIC</th>      <td>    0.0176</td> <td>    0.006</td> <td>    2.947</td> <td> 0.003</td> <td>    0.006</td> <td>    0.029</td>\n",
       "</tr>\n",
       "<tr>\n",
       "  <th>WHITE</th>         <td>    0.0118</td> <td>    0.008</td> <td>    1.469</td> <td> 0.142</td> <td>   -0.004</td> <td>    0.028</td>\n",
       "</tr>\n",
       "<tr>\n",
       "  <th>F</th>             <td>    0.0270</td> <td>    0.009</td> <td>    3.166</td> <td> 0.002</td> <td>    0.010</td> <td>    0.044</td>\n",
       "</tr>\n",
       "<tr>\n",
       "  <th>M</th>             <td>    0.0315</td> <td>    0.008</td> <td>    4.154</td> <td> 0.000</td> <td>    0.017</td> <td>    0.046</td>\n",
       "</tr>\n",
       "<tr>\n",
       "  <th>age</th>           <td>    0.0037</td> <td>    0.000</td> <td>    8.359</td> <td> 0.000</td> <td>    0.003</td> <td>    0.005</td>\n",
       "</tr>\n",
       "<tr>\n",
       "  <th>prior_arrests</th> <td>    0.0160</td> <td>    0.002</td> <td>    9.661</td> <td> 0.000</td> <td>    0.013</td> <td>    0.019</td>\n",
       "</tr>\n",
       "<tr>\n",
       "  <th>treat</th>         <td>   -0.0145</td> <td>    0.005</td> <td>   -2.718</td> <td> 0.007</td> <td>   -0.025</td> <td>   -0.004</td>\n",
       "</tr>\n",
       "</table>\n",
       "<table class=\"simpletable\">\n",
       "<tr>\n",
       "  <th>Omnibus:</th>       <td>4651.179</td> <th>  Durbin-Watson:     </th> <td>   2.108</td>\n",
       "</tr>\n",
       "<tr>\n",
       "  <th>Prob(Omnibus):</th>  <td> 0.000</td>  <th>  Jarque-Bera (JB):  </th> <td>7890.588</td>\n",
       "</tr>\n",
       "<tr>\n",
       "  <th>Skew:</th>           <td> 1.376</td>  <th>  Prob(JB):          </th> <td>    0.00</td>\n",
       "</tr>\n",
       "<tr>\n",
       "  <th>Kurtosis:</th>       <td> 3.011</td>  <th>  Cond. No.          </th> <td>1.51e+15</td>\n",
       "</tr>\n",
       "</table>"
      ],
      "text/plain": [
       "<class 'statsmodels.iolib.summary.Summary'>\n",
       "\"\"\"\n",
       "                            OLS Regression Results                            \n",
       "==============================================================================\n",
       "Dep. Variable:              re_arrest   R-squared:                       0.019\n",
       "Model:                            OLS   Adj. R-squared:                  0.019\n",
       "Method:                 Least Squares   F-statistic:                     69.20\n",
       "Date:                Tue, 20 Mar 2018   Prob (F-statistic):           1.72e-99\n",
       "Time:                        09:24:45   Log-Likelihood:                -12819.\n",
       "No. Observations:               25000   AIC:                         2.565e+04\n",
       "Df Residuals:                   24992   BIC:                         2.572e+04\n",
       "Df Model:                           7                                         \n",
       "Covariance Type:            nonrobust                                         \n",
       "=================================================================================\n",
       "                    coef    std err          t      P>|t|      [0.025      0.975]\n",
       "---------------------------------------------------------------------------------\n",
       "ASIAN             0.0111      0.010      1.081      0.279      -0.009       0.031\n",
       "BLACK             0.0179      0.005      3.531      0.000       0.008       0.028\n",
       "HISPANIC          0.0176      0.006      2.947      0.003       0.006       0.029\n",
       "WHITE             0.0118      0.008      1.469      0.142      -0.004       0.028\n",
       "F                 0.0270      0.009      3.166      0.002       0.010       0.044\n",
       "M                 0.0315      0.008      4.154      0.000       0.017       0.046\n",
       "age               0.0037      0.000      8.359      0.000       0.003       0.005\n",
       "prior_arrests     0.0160      0.002      9.661      0.000       0.013       0.019\n",
       "treat            -0.0145      0.005     -2.718      0.007      -0.025      -0.004\n",
       "==============================================================================\n",
       "Omnibus:                     4651.179   Durbin-Watson:                   2.108\n",
       "Prob(Omnibus):                  0.000   Jarque-Bera (JB):             7890.588\n",
       "Skew:                           1.376   Prob(JB):                         0.00\n",
       "Kurtosis:                       3.011   Cond. No.                     1.51e+15\n",
       "==============================================================================\n",
       "\n",
       "Warnings:\n",
       "[1] Standard Errors assume that the covariance matrix of the errors is correctly specified.\n",
       "[2] The smallest eigenvalue is 1.06e-23. This might indicate that there are\n",
       "strong multicollinearity problems or that the design matrix is singular.\n",
       "\"\"\""
      ]
     },
     "execution_count": 12,
     "metadata": {},
     "output_type": "execute_result"
    }
   ],
   "source": [
    "# One-hot encode our categorical vars,\n",
    "# and combine with age and treatment.\n",
    "X = pd.concat([pd.get_dummies(cases.race),\n",
    "               pd.get_dummies(cases.gender),\n",
    "               cases.age,\n",
    "               cases.prior_arrests,\n",
    "               cases.treat], axis=1)\n",
    "\n",
    "# Our dependent variable is re_arrest indicator.\n",
    "y = cases.re_arrest\n",
    "\n",
    "# Statsmodels library Ordinary Least Squares.\n",
    "est = sm.OLS(y, X).fit()\n",
    "est.summary()"
   ]
  },
  {
   "cell_type": "markdown",
   "metadata": {},
   "source": [
    "We can see through this procedure that after controlling for demographics and prior arrests, treatment has a statistically significant negative impact on the occurrance of re-arrests.  Our test statistic is -2.718, which is significant at the alpha = 0.01 level.  The coefficient of -0.0145 on the 'treat' variable can be interpreted as treatment having a -1.45% effect on occurance of re-arrest after controlling for demographics and prior arrests."
   ]
  },
  {
   "cell_type": "markdown",
   "metadata": {},
   "source": [
    "## Targeting Treatments\n",
    "\n",
    "After determining that treatment is indeed effective at preventing re-arrests (albeit at a relatively small level), we might be interested in prescribing policy to increase the effectiveness of this treatment by targeting certain subsets of the population.  To this end, we will employ predictive analytics in the form of a supervised machine learning model to determine where to focus our treatment efforts."
   ]
  },
  {
   "cell_type": "markdown",
   "metadata": {},
   "source": [
    "### Who is likely to be re-arrested prior to disposition?\n",
    "\n",
    "We examine the importance of demographic or prior arrests data on the likelihood of a re-arrest by training a decision tree to predict whether or not a person will be re-arrested prior to disposition on all control (\"untreated\") cases."
   ]
  },
  {
   "cell_type": "code",
   "execution_count": 13,
   "metadata": {
    "collapsed": false
   },
   "outputs": [
    {
     "name": "stdout",
     "output_type": "stream",
     "text": [
      "Features and importances:\n"
     ]
    },
    {
     "data": {
      "text/plain": [
       "[('ASIAN', 0.04563504939761644),\n",
       " ('BLACK', 0.05591055392404558),\n",
       " ('HISPANIC', 0.0615566730747027),\n",
       " ('WHITE', 0.04880186733435068),\n",
       " ('F', 0.05567433772249244),\n",
       " ('M', 0.04488221755856354),\n",
       " ('age', 0.45016199423042474),\n",
       " ('prior_arrests', 0.23737730675780394)]"
      ]
     },
     "execution_count": 13,
     "metadata": {},
     "output_type": "execute_result"
    }
   ],
   "source": [
    "# Get the control cases.\n",
    "untreated_cases = cases[cases.treat == 0]\n",
    "\n",
    "# One-hot encode independent demographic and prior arrests features.\n",
    "X = pd.concat([pd.get_dummies(untreated_cases.race),\n",
    "               pd.get_dummies(untreated_cases.gender),\n",
    "               untreated_cases.age,\n",
    "               untreated_cases.prior_arrests], axis=1)\n",
    "\n",
    "# Re-arrest is the dependent variable.\n",
    "y = untreated_cases.re_arrest\n",
    "\n",
    "# Init a vanilla decision tree classifier.\n",
    "clf = DecisionTreeClassifier(max_depth = None)\n",
    "\n",
    "# Fit a tree to the data.\n",
    "clf.fit(X,y)\n",
    "\n",
    "# Print out feature importances.\n",
    "print \"Features and importances:\"\n",
    "zip(X.columns, clf.feature_importances_)"
   ]
  },
  {
   "cell_type": "markdown",
   "metadata": {},
   "source": [
    "This exercise shows us that age and prior_arrests are significantly more \"important\" in predicting a re-arrest as determined by a measure of entropy-reduction from the construction of a complete-fit decision tree classifier to the untreated data.  In particular, both age and prior arrests have a positive correlation with re-arrests, suggesting that older persons with many prior arrests are at a higher risk of being re-arrested than their younger, infrequently arrested counterparts."
   ]
  },
  {
   "cell_type": "code",
   "execution_count": 14,
   "metadata": {
    "collapsed": false
   },
   "outputs": [
    {
     "name": "stdout",
     "output_type": "stream",
     "text": [
      "Age/Re-arrest correlation for untreated cases.\n",
      "[[1.         0.12446435]\n",
      " [0.12446435 1.        ]]\n",
      "\n",
      "Prior Arrests/Re-arrest correlation for untreated cases.\n",
      "[[1.         0.14242233]\n",
      " [0.14242233 1.        ]]\n"
     ]
    }
   ],
   "source": [
    "print \"Age/Re-arrest correlation for untreated cases.\"\n",
    "print np.corrcoef(untreated_cases.age, untreated_cases.re_arrest)\n",
    "print\n",
    "print \"Prior Arrests/Re-arrest correlation for untreated cases.\"\n",
    "print np.corrcoef(untreated_cases.prior_arrests, untreated_cases.re_arrest)"
   ]
  },
  {
   "cell_type": "markdown",
   "metadata": {},
   "source": [
    "We now look at the demographic and prior arrest characteristics of \"effective\" treatment cases versus \"ineffective\" treatment cases to see if there are fundamental differences in the profile of a person that responds positively to the treatment program.  We choose a multi-variate two sided t-test statistic for our differences."
   ]
  },
  {
   "cell_type": "code",
   "execution_count": 15,
   "metadata": {
    "collapsed": false
   },
   "outputs": [
    {
     "name": "stdout",
     "output_type": "stream",
     "text": [
      "Characteristic : Statistic : p-value\n",
      "ASIAN :  -0.001 : 0.999\n",
      "BLACK :  0.475 : 0.635\n",
      "HISPANIC :  -0.532 : 0.595\n",
      "WHITE :  -0.011 : 0.991\n",
      "F :  0.093 : 0.926\n",
      "M :  -0.093 : 0.926\n",
      "age :  13.462 : 0.000\n",
      "prior_arrests :  13.639 : 0.000\n",
      "\n",
      "Average age of effective treatment cases: 30.8\n",
      "Average age of ineffective treatment cases: 33.1\n",
      "Average prior arrests of effective treatment cases: 4.2\n",
      "Average prior arrests of ineffective treatment cases: 4.9\n"
     ]
    }
   ],
   "source": [
    "# Get treated cases and split by effective/ineffective.\n",
    "treated_cases = cases[cases.treat == 1]\n",
    "effective_cases = treated_cases[treated_cases.re_arrest == 0]\n",
    "ineffective_cases = treated_cases[treated_cases.re_arrest == 1]\n",
    "\n",
    "# One-hot encode both sets of independent variables.\n",
    "X1 = pd.concat([pd.get_dummies(ineffective_cases.race), pd.get_dummies(ineffective_cases.gender), ineffective_cases.age, ineffective_cases.prior_arrests], axis=1)\n",
    "X2 = pd.concat([pd.get_dummies(effective_cases.race), pd.get_dummies(effective_cases.gender), effective_cases.age, effective_cases.prior_arrests], axis=1)\n",
    "\n",
    "# Perform standard t-test for all dependent variables.\n",
    "print \"Characteristic : Statistic : p-value\"\n",
    "for characteristic in X1.columns:\n",
    "    stat, pval = ttest_ind(X1[characteristic], X2[characteristic], axis=0, equal_var=False)\n",
    "    print characteristic, \": \", '{0:0.3f}'.format(stat), ': {0:0.3f}'.format(pval)\n",
    "\n",
    "# Print out results.\n",
    "print '\\nAverage age of effective treatment cases: {0:0.1f}'.format(np.mean(effective_cases.age))\n",
    "print 'Average age of ineffective treatment cases: {0:0.1f}'.format(np.mean(ineffective_cases.age))\n",
    "print 'Average prior arrests of effective treatment cases: {0:0.1f}'.format(np.mean(effective_cases.prior_arrests))\n",
    "print 'Average prior arrests of ineffective treatment cases: {0:0.1f}'.format(np.mean(ineffective_cases.prior_arrests))"
   ]
  },
  {
   "cell_type": "markdown",
   "metadata": {},
   "source": [
    "This exercise shows that while race and gender do not appear to play a role in the effectiveness of treatment on the re-arrest rates of persons prior to disposition, age and prior arrests in fact do play a role."
   ]
  },
  {
   "cell_type": "markdown",
   "metadata": {},
   "source": [
    "### Who is likely to respond positively to treatment?\n",
    "\n",
    "While we expect younger, less-frequently-arrested persons to not be re-arrested at the same rate, we want to tease out the effects treatment at the subgroup level for policy purposes.\n",
    "\n",
    "We now split out an example of a \"high-risk\" group from a \"low-risk\" group to see if treatment had a tangible difference on the re-arrest occurances for these subgroups.  We perform a simple z-test for differences in proportions as our statistic."
   ]
  },
  {
   "cell_type": "code",
   "execution_count": 16,
   "metadata": {
    "collapsed": false
   },
   "outputs": [
    {
     "name": "stdout",
     "output_type": "stream",
     "text": [
      "Low Risk Group Response:\n",
      "Re-arrest rate for treated low-risk persons: 0.170\n",
      "Re-arrest rate for untreated low-risk persons: 0.168\n",
      "Test statistic for difference in responses is 0.295\n",
      "P-value for difference in responses is 0.768\n",
      "\n",
      "High Risk Group Response:\n",
      "Re-arrest rate for treated low-risk persons: 0.280\n",
      "Re-arrest rate for untreated low-risk persons: 0.295\n",
      "Test statistic for difference in responses is -1.262\n",
      "P-value for difference in responses is 0.207\n"
     ]
    }
   ],
   "source": [
    "# Split out low risk group.\n",
    "lowrisk_cases = cases[(cases.age <= 30) & (cases.prior_arrests <= 4)]\n",
    "treated_lowrisk = lowrisk_cases[lowrisk_cases.treat == 1]\n",
    "untreated_lowrisk = lowrisk_cases[lowrisk_cases.treat == 0]\n",
    "\n",
    "# Split out high risk group.\n",
    "highrisk_cases = cases[(cases.age > 30) & (cases.prior_arrests > 4)]\n",
    "treated_highrisk = highrisk_cases[highrisk_cases.treat == 1]\n",
    "untreated_highrisk = highrisk_cases[highrisk_cases.treat == 0]\n",
    "\n",
    "# Calculate proportions for risk group responses.\n",
    "rearrest_proportion_treated_lowrisk = len(treated_lowrisk[treated_lowrisk.re_arrest == 1]) / \\\n",
    "                                      len(treated_lowrisk)\n",
    "rearrest_proportion_untreated_lowrisk = len(untreated_lowrisk[untreated_lowrisk.re_arrest == 1]) / \\\n",
    "                                        len(untreated_lowrisk)\n",
    "rearrest_proportion_treated_highrisk = len(treated_highrisk[treated_highrisk.re_arrest == 1]) / \\\n",
    "                                       len(treated_highrisk)\n",
    "rearrest_proportion_untreated_highrisk = len(untreated_highrisk[untreated_highrisk.re_arrest == 1]) / \\\n",
    "                                         len(untreated_highrisk)\n",
    "\n",
    "# Array of counts:\n",
    "successes_lowrisk = np.array([len(treated_lowrisk[treated_lowrisk.re_arrest == 1]),\n",
    "                              len(untreated_lowrisk[untreated_lowrisk.re_arrest == 1])])\n",
    "successes_highrisk = np.array([len(treated_highrisk[treated_highrisk.re_arrest == 1]),\n",
    "                               len(untreated_highrisk[untreated_highrisk.re_arrest == 1])])\n",
    "\n",
    "# Array of total observations.\n",
    "observations_lowrisk = np.array([len(treated_lowrisk),\n",
    "                                 len(untreated_lowrisk)])\n",
    "observations_highrisk = np.array([len(treated_highrisk),\n",
    "                                  len(untreated_highrisk)])\n",
    "\n",
    "# Obtain test statistics and p-values.\n",
    "statistic_lr, p_value_lr = proportions_ztest(successes_lowrisk, observations_lowrisk)\n",
    "statistic_hr, p_value_hr = proportions_ztest(successes_highrisk, observations_highrisk)\n",
    "\n",
    "# Print low risk group statistics.\n",
    "print \"Low Risk Group Response:\"\n",
    "print \"Re-arrest rate for treated low-risk persons: {0:0.3f}\".format(rearrest_proportion_treated_lowrisk)\n",
    "print \"Re-arrest rate for untreated low-risk persons: {0:0.3f}\".format(rearrest_proportion_untreated_lowrisk)\n",
    "print \"Test statistic for difference in responses is {0:0.3f}\".format(statistic_lr)\n",
    "print \"P-value for difference in responses is {0:0.3f}\".format(p_value_lr)\n",
    "\n",
    "# Print high risk group statistics.\n",
    "print \"\\nHigh Risk Group Response:\"\n",
    "print \"Re-arrest rate for treated low-risk persons: {0:0.3f}\".format(rearrest_proportion_treated_highrisk)\n",
    "print \"Re-arrest rate for untreated low-risk persons: {0:0.3f}\".format(rearrest_proportion_untreated_highrisk)\n",
    "print \"Test statistic for difference in responses is {0:0.3f}\".format(statistic_hr)\n",
    "print \"P-value for difference in responses is {0:0.3f}\".format(p_value_hr)"
   ]
  },
  {
   "cell_type": "markdown",
   "metadata": {},
   "source": [
    "We see from this exercise that although low-risk groups tend not to be re-arrested at the same rates as their high-risk counterparts, the effect of treatment appears to be negligible.  The effect of treatment for high-risk groups is more prevalent- however, the selection bias in the application of treatment designations for high risk groups renders our test statistics inconclusive as high risk persons were oversampled in the trial, leaving us with small control samples to compare our treatment groups against."
   ]
  },
  {
   "cell_type": "markdown",
   "metadata": {},
   "source": [
    "### Final Words and Policy Suggestions\n",
    "\n",
    "In this brief examination of the re-arrest treatment program, we showed that statistical inference applied to the whole period in question will be erroneous due to selection bias in the application of treatment towards persons with higher prior arrests records.  We showed that after explicit controlling for demographics and prior arrests, treatment appears to be effective but marginal across the range of persons as determined by a multivariate regression analysis.  We continued to show that both age and prior arrests (as opposed to race and gender) appear to explain to a large degree re-arrest outcomes, with older, more-frequently-arrested persons at higher risk for re-arrests.  Finally, we showed that while younger, less-frequently-arrested persons do not appear to respond to treatment, high risk groups do appear to respond, but the results are inconclusive do to sampling bias.\n",
    "\n",
    "With this analysis, we state that if this program were to continue, we would expect the most-efficient use of resources as adjudged by positive treatment outcomes to occur for older, more-frequently arrested persons, but that we would need a more-controlled experiment to make conclusive results.  We also suggest that the costs of the program be weighed against the minor overall decreases in re-arrest rates.  While the treatment program appears promising, the results are not significant enough to declare it a unequivocal success."
   ]
  }
 ],
 "metadata": {
  "kernelspec": {
   "display_name": "Python 2",
   "language": "python",
   "name": "python2"
  },
  "language_info": {
   "codemirror_mode": {
    "name": "ipython",
    "version": 2
   },
   "file_extension": ".py",
   "mimetype": "text/x-python",
   "name": "python",
   "nbconvert_exporter": "python",
   "pygments_lexer": "ipython2",
   "version": "2.7.11"
  }
 },
 "nbformat": 4,
 "nbformat_minor": 2
}
